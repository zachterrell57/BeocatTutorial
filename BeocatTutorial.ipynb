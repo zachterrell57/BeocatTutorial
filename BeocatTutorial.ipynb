{
 "cells": [
  {
   "cell_type": "markdown",
   "metadata": {},
   "source": [
    "<h1>Beocat Tutorial</h1>\n",
    "Navigate to the following links for more info:\n",
    "\n",
    "Linux Basics - https://support.beocat.ksu.edu/BeocatDocs/index.php?title=LinuxBasics </br>\n",
    "Basic Slurm - https://support.beocat.ksu.edu/BeocatDocs/index.php?title=SlurmBasics </br>\n",
    "Advanced Slurm - https://support.beocat.ksu.edu/BeocatDocs/index.php?title=AdvancedSlurm</br>\n",
    "Running Python Scripts - https://support.beocat.ksu.edu/BeocatDocs/index.php?title=Installed_software#Python"
   ]
  },
  {
   "cell_type": "markdown",
   "metadata": {},
   "source": [
    "# Setting up Beocat Account\n",
    "In order to submit jobs to beocat, you must first set up an account. This can be done here:\n",
    "https://account.beocat.ksu.edu/"
   ]
  },
  {
   "cell_type": "markdown",
   "metadata": {},
   "source": [
    "# Getting files onto Beocat\n",
    "\n",
    "In order to run our training scripts on Beocat we must transfer them to Beocat. In my experience, the easiest way to do this is through SFTP (Secure File Transfer Protocol). If you prefer a GUI, applications like FileZilla will be more than sufficient. Navigate to the directory from which you would like to transfer files and type the following commands:"
   ]
  },
  {
   "cell_type": "code",
   "execution_count": null,
   "metadata": {},
   "outputs": [],
   "source": [
    "> sftp myusername@headnode.beocat.ksu.edu\n",
    "> Password: (password will show no response on screen)\n",
    "Connected to headnode.beocat.ksu.edu.\n",
    "> sftp> put myfile.txt\n",
    "Uploading myfile.txt to /homes/myusername/myfile.txt\n",
    "myfile.txt  100%    0     0.0KB/s   00:00\n",
    "> sftp> exit"
   ]
  },
  {
   "cell_type": "markdown",
   "metadata": {},
   "source": [
    "Oftentimes you will want to transfer an entire directory to beocat. This is done with the -r flag (for \"recursive\"):"
   ]
  },
  {
   "cell_type": "code",
   "execution_count": null,
   "metadata": {},
   "outputs": [],
   "source": [
    "> sftp> put -r mydirectory"
   ]
  },
  {
   "cell_type": "markdown",
   "metadata": {},
   "source": [
    "## SSH Into Beocat\n",
    "\n",
    "Now we will SSH into beocat so we can run commands. This can be accomplished with the command:"
   ]
  },
  {
   "cell_type": "code",
   "execution_count": null,
   "metadata": {},
   "outputs": [],
   "source": [
    "ssh username@headnode.beocat.ksu.edu"
   ]
  },
  {
   "cell_type": "markdown",
   "metadata": {},
   "source": [
    "You'll know you are successfully logged in when you see a prompt that says:"
   ]
  },
  {
   "cell_type": "code",
   "execution_count": null,
   "metadata": {},
   "outputs": [],
   "source": [
    "(machinename:~) username%"
   ]
  },
  {
   "cell_type": "markdown",
   "metadata": {},
   "source": [
    "## Configuring Python\n",
    "Now we need to do some configuration in order to run out python script. The first thing we must do is pick a Python module. In order to list all the available modules, run:"
   ]
  },
  {
   "cell_type": "code",
   "execution_count": null,
   "metadata": {},
   "outputs": [],
   "source": [
    "> module avail Python/"
   ]
  },
  {
   "cell_type": "markdown",
   "metadata": {},
   "source": [
    "We can then pick a module using:"
   ]
  },
  {
   "cell_type": "code",
   "execution_count": null,
   "metadata": {},
   "outputs": [],
   "source": [
    "module load Python/SOME_VERSION_THAT_YOU_PICKED_FROM_THE_LIST"
   ]
  },
  {
   "cell_type": "markdown",
   "metadata": {},
   "source": [
    "The next thing we have to do is create a virtual environment so we can install packages. Complete the following steps in order to accomplish this:"
   ]
  },
  {
   "cell_type": "code",
   "execution_count": null,
   "metadata": {},
   "outputs": [],
   "source": [
    "# create a new directory for our virtualenvs\n",
    "> mkdir ~/virtualenvs\n",
    "> cd ~/virtualenvs\n",
    "\n",
    "# create a new virtualenv called test\n",
    "> virtualenv test\n",
    "\n",
    "# verify that the virtualenv is created\n",
    "> ls ~/virtualenvs\n",
    "\n",
    "# activate the virtualenv\n",
    "> source ~/virtualenvs/test/bin/activate"
   ]
  },
  {
   "cell_type": "markdown",
   "metadata": {},
   "source": [
    "Now we can install any packages we want using pip. Keep in mind that <b>everytime you log in you will have to load the python module and activate the virtualenv</b>"
   ]
  },
  {
   "cell_type": "markdown",
   "metadata": {},
   "source": [
    "## Run Job Script\n",
    "In order to submit a job to Beocat, it <b>must be contained in a shell script</b>. If you are trying to run a python script, it is very easy to run through a shell script. Here is an example:"
   ]
  },
  {
   "cell_type": "code",
   "execution_count": null,
   "metadata": {},
   "outputs": [],
   "source": [
    "#!/bin/bash\n",
    "# run_train_single_agent_basic.sh\n",
    "# Basic Shell Script to run Python\n",
    " \n",
    "python train_single_agent_basic.py -e 'CartPole-v1' --agent \"DQN\" --stop-timesteps 30000000 --seed 1 --ram 15 --num_workers 6  --num_envs_per_workers 4"
   ]
  },
  {
   "cell_type": "markdown",
   "metadata": {},
   "source": [
    "As you can see, the shell file just contains the command you'd use to run the python script in the command line. </br>\n",
    "<b>Always remember to start your shell scripts with #!/bin/sh, or else slurm will not recognize it</b></br>\n",
    "\n",
    "Now it it time to submit the job. The following command will go in the command line, inside of the same directory where your shell script is stored: </br>\n",
    "1. sbatch: command to submit batch script\n",
    "2. --mem-per-cpu: tells how much memory is needed per core\n",
    "3. --time: how much runtime is needed. \"minutes\", \"minutes:seconds\", \"hours:minutes:seconds\", \"days-hours\", \"days-hours:minutes\" and \"days-hours:minutes:seconds\"\n",
    "4. --cpus-per-task: how many cpus are needed\n",
    "5. --ntasks: how many tasks will be run\n",
    "6. --nodes: how many machines to be run on\n",
    "7. --gres=gpus:1: requests one GPU node. More info at: https://support.beocat.ksu.edu/BeocatDocs/index.php?title=AdvancedSlurm#CUDA\n",
    "8. The shell script that you wish to run"
   ]
  },
  {
   "cell_type": "code",
   "execution_count": null,
   "metadata": {},
   "outputs": [],
   "source": [
    "sbatch --time=1-0 --mem-per-cpu=5gb --cpus-per-task=1 --ntasks=1 --nodes=1 --gres=gpu:1 run_train_single_agent_basic.sh"
   ]
  },
  {
   "cell_type": "markdown",
   "metadata": {},
   "source": [
    "## Monitoring Your Job\n",
    "Once your job is running, you can use the following commands to monitor it:"
   ]
  },
  {
   "cell_type": "code",
   "execution_count": null,
   "metadata": {},
   "outputs": [],
   "source": [
    "#Display all of your current jobs\n",
    "kstat --me\n",
    "\n",
    "#Detailed information about a certain job\n",
    "kstat -j 157054\n",
    "\n",
    "#Display completed job within last # days ex. kstat -d 5\n",
    "kstat -d #"
   ]
  },
  {
   "cell_type": "markdown",
   "metadata": {},
   "source": [
    "# Viewing Output\n",
    "Slurm will output a file to the working directory after the job is done running. This file will be titled something like \"slurm-2992962.out\". In order to view the contents of this file we can simple run:"
   ]
  },
  {
   "cell_type": "code",
   "execution_count": null,
   "metadata": {},
   "outputs": [],
   "source": [
    "> cat slurm-2992962.out"
   ]
  }
 ],
 "metadata": {
  "language_info": {
   "name": "python"
  },
  "orig_nbformat": 4
 },
 "nbformat": 4,
 "nbformat_minor": 2
}
